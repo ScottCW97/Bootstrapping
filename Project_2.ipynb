{
 "cells": [
  {
   "cell_type": "markdown",
   "id": "674548a0",
   "metadata": {},
   "source": [
    "# Importing the necessary libraries"
   ]
  },
  {
   "cell_type": "code",
   "execution_count": 1,
   "id": "faa9d48f",
   "metadata": {},
   "outputs": [],
   "source": [
    "# Importing the necessary libraries\n",
    "import math\n",
    "import numpy as np\n",
    "import matplotlib.pyplot as plt\n"
   ]
  },
  {
   "cell_type": "markdown",
   "id": "18ad3100",
   "metadata": {},
   "source": [
    "# Defining our data set"
   ]
  },
  {
   "cell_type": "code",
   "execution_count": 2,
   "id": "008bc907",
   "metadata": {},
   "outputs": [],
   "source": [
    "# Creating our data set\n",
    "data = [0, 65, 25, 0, 25, 35, 50, 36, 44, 170, 87, 96, 100, 65, 48]\n",
    "\n",
    "# Since we are always using 500 as the number of bootstrap samples wanted, define a variable\n",
    "B = 500\n"
   ]
  },
  {
   "cell_type": "markdown",
   "id": "f5377626",
   "metadata": {},
   "source": [
    "# Defining a function that will give us the confidence intervals based on both the percentile method and bootstrap-t method"
   ]
  },
  {
   "cell_type": "code",
   "execution_count": 3,
   "id": "b09cdc4c",
   "metadata": {},
   "outputs": [],
   "source": [
    "def bootstrap(data, B, alpha):\n",
    "    # Calculating the mean of our original sample\n",
    "    sample_mean = sum(data)/len(data)\n",
    "    # Calculating the standard error of our original sample\n",
    "    sample_var = sum([(values - sample_mean)**2 for values in data])/(len(data) - 1)\n",
    "    sample_std_err = math.sqrt(sample_var/len(data))\n",
    "    # Creating an array that will store the value of the estimator\n",
    "    estimates = []\n",
    "    # Creating an array that will store the T test statistics\n",
    "    T = []\n",
    "    # Obtaining B bootstrap samples\n",
    "    for i in range(B):\n",
    "        # Creating an array which will store the bootstrap sample\n",
    "        boot = []\n",
    "        for j in range(len(data)):\n",
    "            # Define a variable that will give a random index to pull from for sampling with replacement\n",
    "            index = np.random.randint(len(data))\n",
    "            # Obtaining a bootstrap sample with replacement\n",
    "            boot.append(data[index])\n",
    "        # Appending the estimate for the current bootstrap sample to the array estimates\n",
    "        estimates.append(sum(boot)/len(boot))\n",
    "        # Calculating the sample variance\n",
    "        var = sum([(values - estimates[i])**2 for values in boot])/(len(boot) - 1)\n",
    "        # Calculating the standard error\n",
    "        std_err = math.sqrt(var/len(boot))\n",
    "        # Calculating the T test statistic\n",
    "        T.append((estimates[i] - sample_mean)/std_err)\n",
    "    \n",
    "    # Ranking the estimates\n",
    "    estimates.sort()\n",
    "    \n",
    "    # Calculating the lower and upper bound indices for the confidence interval\n",
    "    lower = math.floor(B * alpha/2) + 1\n",
    "    upper = math.floor(B * (1 - alpha/2)) + 1\n",
    "    \n",
    "    # Putting the confidence interval together so it can be returned as a tuple\n",
    "    confidence_interval = (estimates[lower], estimates[upper])\n",
    "    \n",
    "    # Ranking the T test statistics\n",
    "    T.sort()\n",
    "    \n",
    "    # Using percentile method to find indices for t values\n",
    "    upper_t = math.floor(B * alpha/2) + 1\n",
    "    lower_t = math.floor(B * (1 - alpha/2)) + 1\n",
    "    \n",
    "    # Defining the correct t values\n",
    "    t_lower = T[lower_t]\n",
    "    t_upper = T[upper_t]\n",
    "    \n",
    "    # Finding the confidence interval\n",
    "    lower_bound = sample_mean - t_lower*sample_std_err\n",
    "    upper_bound = sample_mean - t_upper*sample_std_err\n",
    "    confidence_interval_t = (lower_bound, upper_bound)\n",
    "    \n",
    "    return confidence_interval, confidence_interval_t\n"
   ]
  },
  {
   "cell_type": "markdown",
   "id": "e4f6b34e",
   "metadata": {},
   "source": [
    "# Obtaining the confidence intervals"
   ]
  },
  {
   "cell_type": "code",
   "execution_count": 4,
   "id": "656d1a7e",
   "metadata": {},
   "outputs": [
    {
     "name": "stdout",
     "output_type": "stream",
     "text": [
      "The mean of the data set is: 56.4\n"
     ]
    }
   ],
   "source": [
    "print(\"The mean of the data set is: \" + str(sum(data)/len(data)))"
   ]
  },
  {
   "cell_type": "code",
   "execution_count": 5,
   "id": "a339530e",
   "metadata": {},
   "outputs": [
    {
     "name": "stdout",
     "output_type": "stream",
     "text": [
      "The confidence interval obtained with the percentile method is: (40.6, 75.86666666666666)\n",
      "The confidence interval obtained with the bootstrap-t method is: (38.42676993891435, 79.42093766874939)\n"
     ]
    }
   ],
   "source": [
    "# Obtaining the 90% confidence interval by the percentile method\n",
    "CI_p, CI_t = bootstrap(data, B, 0.1)\n",
    "print(\"The confidence interval obtained with the percentile method is: \" + str(CI_p))\n",
    "print(\"The confidence interval obtained with the bootstrap-t method is: \" + str(CI_t))\n"
   ]
  },
  {
   "cell_type": "code",
   "execution_count": 6,
   "id": "a4995dc2",
   "metadata": {},
   "outputs": [
    {
     "data": {
      "image/png": "[encoded data removed]",
      "text/plain": [
       "<Figure size 640x480 with 1 Axes>"
      ]
     },
     "metadata": {},
     "output_type": "display_data"
    }
   ],
   "source": [
    "plt.figure(1)\n",
    "plt.hist(data, color='skyblue', edgecolor='black')\n",
    "# Adding title, x label, and y label\n",
    "plt.title('Histogram of haircut data')\n",
    "plt.xlabel('Dollar Amount Spent')\n",
    "plt.ylabel('Frequency')\n",
    "plt.show()"
   ]
  },
  {
   "cell_type": "markdown",
   "id": "1fa26d38",
   "metadata": {},
   "source": [
    "# Prototyping Functions"
   ]
  },
  {
   "cell_type": "code",
   "execution_count": null,
   "id": "40cd16e7",
   "metadata": {},
   "outputs": [],
   "source": [
    "# Function definition for the percentile method\n",
    "def percentile(data, B, alpha):\n",
    "    # Creating an array that will store the value of the estimator\n",
    "    estimates = []\n",
    "    # Obtaining B bootstrap samples\n",
    "    for i in range(B):\n",
    "        # Creating an array which will store the bootstrap sample\n",
    "        boot = []\n",
    "        for j in range(len(data)):\n",
    "            # Define a variable that will give a random index to pull from for sampling with replacement\n",
    "            index = np.random.randint(len(data))\n",
    "            # Obtaining a bootstrap sample with replacement\n",
    "            boot.append(data[index])\n",
    "        # Appending the estimate for the current bootstrap sample to the array estimates\n",
    "        estimates.append(sum(boot)/len(boot))\n",
    "    \n",
    "    # Ranking the estimates\n",
    "    estimates.sort()\n",
    "    \n",
    "    # Calculating the lower and upper bound indices for the confidence interval\n",
    "    lower = math.floor(B * alpha/2) + 1\n",
    "    upper = math.floor(B * (1 - alpha/2)) + 1\n",
    "    \n",
    "    # Putting the confidence interval together so it can be returned as a tuple\n",
    "    confidence_interval = (estimates[lower], estimates[upper])\n",
    "    \n",
    "    return confidence_interval\n",
    "\n"
   ]
  },
  {
   "cell_type": "code",
   "execution_count": null,
   "id": "0db3524b",
   "metadata": {},
   "outputs": [],
   "source": [
    "# Defining a function for the bootstrap - t method\n",
    "def bootstrap_t(data, B, alpha):\n",
    "    # Calculating the mean of our original sample\n",
    "    sample_mean = sum(data)/len(data)\n",
    "    # Calculating the standard error of our original sample\n",
    "    sample_var = sum([(values - sample_mean)**2 for values in data])/(len(data) - 1)\n",
    "    sample_std_err = math.sqrt(sample_var/len(data))\n",
    "    # Creating an array that will store the value of the estimator\n",
    "    estimates = []\n",
    "    # Creating an array that will store the T test statistics\n",
    "    T = []\n",
    "    # Obtaining B bootstrap samples\n",
    "    for i in range(B):\n",
    "        # Creating an array which will store the bootstrap sample\n",
    "        boot = []\n",
    "        for j in range(len(data)):\n",
    "            # Define a variable that will give a random index to pull from for sampling with replacement\n",
    "            index = np.random.randint(len(data))\n",
    "            # Obtaining a bootstrap sample with replacement\n",
    "            boot.append(data[index])\n",
    "        # Appending the estimate for the current bootstrap sample to the array estimates\n",
    "        estimates.append(sum(boot)/len(boot))\n",
    "        # Calculating the sample variance\n",
    "        var = sum([(values - estimates[i])**2 for values in boot])/(len(boot) - 1)\n",
    "        # Calculating the standard error\n",
    "        std_err = math.sqrt(var/len(boot))\n",
    "        # Calculating the T test statistic\n",
    "        T.append((estimates[i] - sample_mean)/std_err)\n",
    "    \n",
    "    # Ranking the T test statistics\n",
    "    T.sort()\n",
    "    \n",
    "    # Using percentile method to find indices for t values\n",
    "    upper = math.floor(B * alpha/2) + 1\n",
    "    lower = math.floor(B * (1 - alpha/2)) + 1\n",
    "    \n",
    "    # Defining the correct t values\n",
    "    t_lower = T[lower]\n",
    "    t_upper = T[upper]\n",
    "    \n",
    "    # Finding the confidence interval\n",
    "    lower_bound = sample_mean - t_lower*sample_std_err\n",
    "    upper_bound = sample_mean - t_upper*sample_std_err\n",
    "    confidence_interval = (lower_bound, upper_bound)\n",
    "    \n",
    "    return confidence_interval\n",
    "    \n",
    "    "
   ]
  },
  {
   "cell_type": "code",
   "execution_count": null,
   "id": "0514d492",
   "metadata": {},
   "outputs": [],
   "source": [
    "# Obtaining the 90% confidence interval by the percentile method\n",
    "CI = percentile(data, B, 0.1)\n",
    "print(CI)\n",
    "\n",
    "# Obtaining the 90% confidence interval by the bootstrap-t method\n",
    "confidence_t = bootstrap_t(data, B, 0.1)\n",
    "print(confidence_t)\n"
   ]
  }
 ],
 "metadata": {
  "kernelspec": {
   "display_name": "Python 3 (ipykernel)",
   "language": "python",
   "name": "python3"
  },
  "language_info": {
   "codemirror_mode": {
    "name": "ipython",
    "version": 3
   },
   "file_extension": ".py",
   "mimetype": "text/x-python",
   "name": "python",
   "nbconvert_exporter": "python",
   "pygments_lexer": "ipython3",
   "version": "3.10.9"
  }
 },
 "nbformat": 4,
 "nbformat_minor": 5
}
